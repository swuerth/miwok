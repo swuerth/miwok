{
 "cells": [
  {
   "cell_type": "markdown",
   "metadata": {},
   "source": [
    "## Miwok Entrants Database\n",
    "\n",
    "### This notebook reads in the entrants table from miwok100k website.\n",
    "\n",
    "### To Do : Scrape ultrasignup for the people listed here & store info in a Pandas database"
   ]
  },
  {
   "cell_type": "code",
   "execution_count": 1,
   "metadata": {
    "collapsed": false
   },
   "outputs": [
    {
     "name": "stderr",
     "output_type": "stream",
     "text": [
      "/Users/stephanie/anaconda3/envs/snakes/lib/python2.7/site-packages/bs4/__init__.py:181: UserWarning: No parser was explicitly specified, so I'm using the best available HTML parser for this system (\"lxml\"). This usually isn't a problem, but if you run this code on another system, or in a different virtual environment, it may use a different parser and behave differently.\n",
      "\n",
      "The code that caused this warning is on line 162 of the file /Users/stephanie/anaconda3/envs/snakes/lib/python2.7/runpy.py. To get rid of this warning, change code that looks like this:\n",
      "\n",
      " BeautifulSoup([your markup])\n",
      "\n",
      "to this:\n",
      "\n",
      " BeautifulSoup([your markup], \"lxml\")\n",
      "\n",
      "  markup_type=markup_type))\n"
     ]
    }
   ],
   "source": [
    "from bs4 import BeautifulSoup\n",
    "import urllib2\n",
    "import codecs\n",
    "\n",
    "response = urllib2.urlopen('http://miwok100k.com/site/lottery/')\n",
    "html = response.read()\n",
    "soup = BeautifulSoup(html)\n",
    "\n",
    "entrant_table = soup.find(\"table\", {\"class\" : \"tableizer-table\"})"
   ]
  },
  {
   "cell_type": "code",
   "execution_count": 2,
   "metadata": {
    "collapsed": false
   },
   "outputs": [
    {
     "data": {
      "text/plain": [
       "<tr class=\"tableizer-firstrow\">\\n<th>First Name</th>\\n<th>Last Name</th>\\n<th>City</th>\\n<th>State</th>\\n</tr>"
      ]
     },
     "execution_count": 2,
     "metadata": {},
     "output_type": "execute_result"
    }
   ],
   "source": [
    "foo = entrant_table.findAll('tr')\n",
    "header = foo[0]\n",
    "header"
   ]
  },
  {
   "cell_type": "code",
   "execution_count": 3,
   "metadata": {
    "collapsed": false
   },
   "outputs": [
    {
     "data": {
      "text/plain": [
       "<tr>\\n<td>Jeffrey</td>\\n<td>Abando</td>\\n<td>Baltimore</td>\\n<td>MD</td>\\n</tr>"
      ]
     },
     "execution_count": 3,
     "metadata": {},
     "output_type": "execute_result"
    }
   ],
   "source": [
    "row_one = foo[1]\n",
    "row_one"
   ]
  },
  {
   "cell_type": "code",
   "execution_count": 4,
   "metadata": {
    "collapsed": true
   },
   "outputs": [],
   "source": [
    "entrants = foo[1:]"
   ]
  },
  {
   "cell_type": "code",
   "execution_count": 5,
   "metadata": {
    "collapsed": false
   },
   "outputs": [],
   "source": [
    "records = [] # store all of the records in this list\n",
    "for row in entrants:\n",
    "    col = row.findAll('td')\n",
    "    firstname = col[0].string.strip()\n",
    "    lastname = col[1].string.strip()\n",
    "    city = col[2].string.strip()\n",
    "    state = col[3].string.strip()\n",
    "    record = '%s,%s,%s,%s' % (firstname, lastname, city, state) # store the record, comma separated\n",
    "    records.append(record)\n",
    "\n",
    "# If you want to save a text file:\n",
    "#fl = codecs.open('output.txt', 'wb', 'utf8')\n",
    "#line = ';'.join(records)\n",
    "#fl.write(line + u'\\r\\n')\n",
    "#fl.close()"
   ]
  },
  {
   "cell_type": "code",
   "execution_count": 6,
   "metadata": {
    "collapsed": false
   },
   "outputs": [
    {
     "data": {
      "text/plain": [
       "[u'Jeffrey,Abando,Baltimore,MD',\n",
       " u'Lynn,Adami,San Mateo,CA',\n",
       " u'Eleanore,Adams,albany,CA',\n",
       " u'Nick,Affleck,Chico,CA',\n",
       " u'Eric,Aldrich,Santa Cruz,CA',\n",
       " u'Jim,Alexander,Roseville,CA',\n",
       " u'Chuck,Amital,San Francisco,CA',\n",
       " u'Bobb,Ankeney,placerville,CA',\n",
       " u'Megan,Arauzo,Novato,CA',\n",
       " u'Jefferson,Arbuckle,Boulder,CO',\n",
       " u'John,Arledge,los altos,CA',\n",
       " u'Jeanie,Arnold,Seattle,WA',\n",
       " u'Michael,Arnstein,Kailua,HI',\n",
       " u'Michael,Arsenault,Middleton,NH',\n",
       " u'Moises,Avila,Gilroy,CA',\n",
       " u'Michael,Baikie,Mountain View,CA',\n",
       " u'Trevor,Baine,Calgary,AB',\n",
       " u'Emile,Baizel,San Francisco,CA',\n",
       " u'Kathleen,Baker,Kailua,HI',\n",
       " u'Audrey,Baldessari,Redmond,WA']"
      ]
     },
     "execution_count": 6,
     "metadata": {},
     "output_type": "execute_result"
    }
   ],
   "source": [
    "records[:20]"
   ]
  },
  {
   "cell_type": "code",
   "execution_count": 7,
   "metadata": {
    "collapsed": false
   },
   "outputs": [
    {
     "name": "stdout",
     "output_type": "stream",
     "text": [
      "Rank:  0.8614\n",
      "AgeRank:  0.9291\n"
     ]
    },
    {
     "data": {
      "text/plain": [
       "{u'Age': 27,\n",
       " u'AgeRank': 0.9291,\n",
       " u'FirstName': u'Stephanie',\n",
       " u'Gender': u'F',\n",
       " u'Id': 133072,\n",
       " u'ImageId': u'f50cabbe-d91e-4429-bc75-598c90ec807a',\n",
       " u'LastName': u'Wuerth',\n",
       " u'Rank': 0.8614,\n",
       " u'Results': [{u'age': 27,\n",
       "   u'age_rank': 0,\n",
       "   u'city': u'Oakland',\n",
       "   u'drilldown': 1,\n",
       "   u'event_distance_id': 37909,\n",
       "   u'eventdate': u'10/29/2016 12:00:00 AM',\n",
       "   u'eventname': u'Oakland Hills Trail Run - 35K',\n",
       "   u'formattime': u'4:06:56',\n",
       "   u'gender_place': 5,\n",
       "   u'photo_count': 0,\n",
       "   u'place': 12,\n",
       "   u'prior_count': 0,\n",
       "   u'race_count': 0,\n",
       "   u'runner_rank': 0.7813,\n",
       "   u'state': u'CA',\n",
       "   u'status': 1,\n",
       "   u'time': u'4:06:56'},\n",
       "  {u'age': 27,\n",
       "   u'age_rank': 0,\n",
       "   u'city': u'Ashland',\n",
       "   u'drilldown': 1,\n",
       "   u'event_distance_id': 35902,\n",
       "   u'eventdate': u'7/23/2016 12:00:00 AM',\n",
       "   u'eventname': u'Siskiyou Out Back - 50 Miler',\n",
       "   u'formattime': u'9:08:50',\n",
       "   u'gender_place': 1,\n",
       "   u'photo_count': 0,\n",
       "   u'place': 19,\n",
       "   u'prior_count': 0,\n",
       "   u'race_count': 0,\n",
       "   u'runner_rank': 1.0,\n",
       "   u'state': u'OR',\n",
       "   u'status': 1,\n",
       "   u'time': u'9:08:50'},\n",
       "  {u'age': 26,\n",
       "   u'age_rank': 0,\n",
       "   u'city': u'Redwood City',\n",
       "   u'drilldown': 1,\n",
       "   u'event_distance_id': 36071,\n",
       "   u'eventdate': u'4/9/2016 12:00:00 AM',\n",
       "   u'eventname': u'Woodside/Purisima Creek Crossover - 50K',\n",
       "   u'formattime': u'5:08:48',\n",
       "   u'gender_place': 2,\n",
       "   u'photo_count': 0,\n",
       "   u'place': 2,\n",
       "   u'prior_count': 0,\n",
       "   u'race_count': 0,\n",
       "   u'runner_rank': 0.9059,\n",
       "   u'state': u'CA',\n",
       "   u'status': 1,\n",
       "   u'time': u'5:08:48'},\n",
       "  {u'age': 26,\n",
       "   u'age_rank': 0,\n",
       "   u'city': u'Berkeley',\n",
       "   u'drilldown': 1,\n",
       "   u'event_distance_id': 32029,\n",
       "   u'eventdate': u'9/26/2015 12:00:00 AM',\n",
       "   u'eventname': u'Berkeley Trail Adventure - 50K',\n",
       "   u'formattime': u'5:42:54',\n",
       "   u'gender_place': 1,\n",
       "   u'photo_count': 0,\n",
       "   u'place': 10,\n",
       "   u'prior_count': 0,\n",
       "   u'race_count': 0,\n",
       "   u'runner_rank': 1.0,\n",
       "   u'state': u'CA',\n",
       "   u'status': 1,\n",
       "   u'time': u'5:42:54'},\n",
       "  {u'age': 26,\n",
       "   u'age_rank': 0,\n",
       "   u'city': u'Oakland',\n",
       "   u'drilldown': 1,\n",
       "   u'event_distance_id': 32451,\n",
       "   u'eventdate': u'7/26/2015 12:00:00 AM',\n",
       "   u'eventname': u'Redwood Anvil - 10 Miler',\n",
       "   u'formattime': u'1:28:29',\n",
       "   u'gender_place': 3,\n",
       "   u'photo_count': 0,\n",
       "   u'place': 17,\n",
       "   u'prior_count': 0,\n",
       "   u'race_count': 0,\n",
       "   u'runner_rank': 0.9409,\n",
       "   u'state': u'CA',\n",
       "   u'status': 1,\n",
       "   u'time': u'1:28:29'},\n",
       "  {u'age': 25,\n",
       "   u'age_rank': 0,\n",
       "   u'city': u'Manitou Springs',\n",
       "   u'drilldown': 0,\n",
       "   u'event_distance_id': 30001,\n",
       "   u'eventdate': u'8/16/2014 12:00:00 AM',\n",
       "   u'eventname': u'Pikes Peak Ascent - 1/2 Marathon',\n",
       "   u'formattime': u'4:13:05',\n",
       "   u'gender_place': 177,\n",
       "   u'photo_count': 0,\n",
       "   u'place': 739,\n",
       "   u'prior_count': 0,\n",
       "   u'race_count': 0,\n",
       "   u'runner_rank': 0.6073,\n",
       "   u'state': u'CO',\n",
       "   u'status': 1,\n",
       "   u'time': u'4:13:05'},\n",
       "  {u'age': 23,\n",
       "   u'age_rank': 0,\n",
       "   u'city': u'Guerneville',\n",
       "   u'drilldown': 1,\n",
       "   u'event_distance_id': 19754,\n",
       "   u'eventdate': u'5/4/2013 12:00:00 AM',\n",
       "   u'eventname': u'Armstrong Redwoods Trail Run - 30K',\n",
       "   u'formattime': u'3:34:54',\n",
       "   u'gender_place': 2,\n",
       "   u'photo_count': 0,\n",
       "   u'place': 13,\n",
       "   u'prior_count': 0,\n",
       "   u'race_count': 0,\n",
       "   u'runner_rank': 0.8469,\n",
       "   u'state': u'CA',\n",
       "   u'status': 1,\n",
       "   u'time': u'3:34:54'},\n",
       "  {u'age': 23,\n",
       "   u'age_rank': 0,\n",
       "   u'city': u'Redwood City',\n",
       "   u'drilldown': 1,\n",
       "   u'event_distance_id': 18908,\n",
       "   u'eventdate': u'12/15/2012 12:00:00 AM',\n",
       "   u'eventname': u'Woodside Ramble - 1/2 Marathon',\n",
       "   u'formattime': u'1:53:02',\n",
       "   u'gender_place': 5,\n",
       "   u'photo_count': 0,\n",
       "   u'place': 20,\n",
       "   u'prior_count': 0,\n",
       "   u'race_count': 0,\n",
       "   u'runner_rank': 0.9124,\n",
       "   u'state': u'CA',\n",
       "   u'status': 1,\n",
       "   u'time': u'1:53:02'},\n",
       "  {u'age': 20,\n",
       "   u'age_rank': 0,\n",
       "   u'city': u'Mount Baldy',\n",
       "   u'drilldown': 1,\n",
       "   u'event_distance_id': 14263,\n",
       "   u'eventdate': u'9/5/2009 12:00:00 AM',\n",
       "   u'eventname': u'Mount Baldy Run to the Top - 8 Miler',\n",
       "   u'formattime': u'1:45:53',\n",
       "   u'gender_place': 16,\n",
       "   u'photo_count': 0,\n",
       "   u'place': 124,\n",
       "   u'prior_count': 0,\n",
       "   u'race_count': 0,\n",
       "   u'runner_rank': 0.8127,\n",
       "   u'state': u'CA',\n",
       "   u'status': 1,\n",
       "   u'time': u'1:45:53'},\n",
       "  {u'age': 20,\n",
       "   u'age_rank': 0,\n",
       "   u'city': u'Los Angeles (Tarzana)',\n",
       "   u'drilldown': 1,\n",
       "   u'event_distance_id': 9023,\n",
       "   u'eventdate': u'6/14/2009 12:00:00 AM',\n",
       "   u'eventname': u'Valley Crest - 1/2 Marathon',\n",
       "   u'formattime': u'1:50:02',\n",
       "   u'gender_place': 11,\n",
       "   u'photo_count': 0,\n",
       "   u'place': 52,\n",
       "   u'prior_count': 0,\n",
       "   u'race_count': 0,\n",
       "   u'runner_rank': 0.8637,\n",
       "   u'state': u'CA',\n",
       "   u'status': 1,\n",
       "   u'time': u'1:50:02'},\n",
       "  {u'age': 20,\n",
       "   u'age_rank': 0,\n",
       "   u'city': u'Malibu',\n",
       "   u'drilldown': 0,\n",
       "   u'event_distance_id': 9744,\n",
       "   u'eventdate': u'5/9/2009 12:00:00 AM',\n",
       "   u'eventname': u'XTERRA Malibu Creek Challenge Trail Run - 22K',\n",
       "   u'formattime': u'2:13:38',\n",
       "   u'gender_place': 10,\n",
       "   u'photo_count': 0,\n",
       "   u'place': 49,\n",
       "   u'prior_count': 0,\n",
       "   u'race_count': 0,\n",
       "   u'runner_rank': 0.8048,\n",
       "   u'state': u'CA',\n",
       "   u'status': 1,\n",
       "   u'time': u'2:13:38'}],\n",
       " u'Status': 0}"
      ]
     },
     "execution_count": 7,
     "metadata": {},
     "output_type": "execute_result"
    }
   ],
   "source": [
    "import json\n",
    "response = urllib2.urlopen('https://ultrasignup.com/service/events.svc/history/Stephanie/Wuerth/')\n",
    "data = json.loads(response.read())\n",
    "print \"Rank: \", data[0]['Rank']\n",
    "print \"AgeRank: \", data[0]['AgeRank']\n",
    "\n",
    "#data[0]\n",
    "data[0]"
   ]
  },
  {
   "cell_type": "code",
   "execution_count": 8,
   "metadata": {
    "collapsed": false
   },
   "outputs": [
    {
     "name": "stdout",
     "output_type": "stream",
     "text": [
      "Rank:  0.8155\n",
      "AgeRank:  0.8531\n"
     ]
    }
   ],
   "source": [
    "response = urllib2.urlopen('https://ultrasignup.com/service/events.svc/history/jake/edman/') #lowercase works!\n",
    "data = json.loads(response.read())\n",
    "print \"Rank: \", data[0]['Rank']\n",
    "print \"AgeRank: \", data[0]['AgeRank']\n",
    "\n",
    "#data[0]"
   ]
  },
  {
   "cell_type": "code",
   "execution_count": 9,
   "metadata": {
    "collapsed": false
   },
   "outputs": [
    {
     "name": "stdout",
     "output_type": "stream",
     "text": [
      "Rank:  0.9703\n",
      "AgeRank:  0.9746\n"
     ]
    }
   ],
   "source": [
    "response = urllib2.urlopen('https://ultrasignup.com/service/events.svc/history/Serena/Eley/')\n",
    "data = json.loads(response.read())\n",
    "print \"Rank: \", data[0]['Rank']\n",
    "print \"AgeRank: \", data[0]['AgeRank']\n",
    "\n",
    "#data[0]"
   ]
  }
 ],
 "metadata": {
  "kernelspec": {
   "display_name": "Python 2",
   "language": "python",
   "name": "python2"
  },
  "language_info": {
   "codemirror_mode": {
    "name": "ipython",
    "version": 2
   },
   "file_extension": ".py",
   "mimetype": "text/x-python",
   "name": "python",
   "nbconvert_exporter": "python",
   "pygments_lexer": "ipython2",
   "version": "2.7.10"
  }
 },
 "nbformat": 4,
 "nbformat_minor": 0
}
